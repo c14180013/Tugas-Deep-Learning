{
 "cells": [
  {
   "cell_type": "markdown",
   "metadata": {},
   "source": [
    "Enrico Hartanto (C14180013), Henry Wicaksono (C14180014), Gregorius Kevin K (C14180057)"
   ]
  },
  {
   "cell_type": "markdown",
   "metadata": {},
   "source": [
    "# Numpy"
   ]
  },
  {
   "cell_type": "markdown",
   "metadata": {},
   "source": [
    "Untuk bekerja dengan angka menggunakan Python. Jauh lebih cepat karena diperlakukan sebagai int/float, bukan object seperti apabila menggunakan Python biasa"
   ]
  },
  {
   "cell_type": "markdown",
   "metadata": {},
   "source": [
    "## Installation "
   ]
  },
  {
   "cell_type": "markdown",
   "metadata": {},
   "source": [
    "conda install numpy atau pip install numpy"
   ]
  },
  {
   "cell_type": "markdown",
   "metadata": {},
   "source": [
    "## Import"
   ]
  },
  {
   "cell_type": "code",
   "execution_count": 1,
   "metadata": {},
   "outputs": [],
   "source": [
    "import numpy as np"
   ]
  },
  {
   "cell_type": "markdown",
   "metadata": {},
   "source": [
    "## Numpy Speed Vs Python List Speed"
   ]
  },
  {
   "cell_type": "code",
   "execution_count": 2,
   "metadata": {},
   "outputs": [],
   "source": [
    "import time\n",
    "\n",
    "size = 1000000  "
   ]
  },
  {
   "cell_type": "code",
   "execution_count": 3,
   "metadata": {},
   "outputs": [
    {
     "name": "stdout",
     "output_type": "stream",
     "text": [
      "Time taken by Lists : 0.1488938331604004 seconds\n"
     ]
    }
   ],
   "source": [
    "list1 = range(size)\n",
    "list2 = range(size)\n",
    "\n",
    "initialTime = time.time()\n",
    "resultantList = [(a * b) for a, b in zip(list1, list2)]\n",
    "\n",
    "print(\"Time taken by Lists :\", \n",
    "      (time.time() - initialTime),\n",
    "      \"seconds\")"
   ]
  },
  {
   "cell_type": "code",
   "execution_count": 4,
   "metadata": {},
   "outputs": [
    {
     "name": "stdout",
     "output_type": "stream",
     "text": [
      "Time taken by NumPy Arrays : 0.0039882659912109375 seconds\n"
     ]
    }
   ],
   "source": [
    "array1 = np.arange(size)  \n",
    "array2 = np.arange(size)\n",
    "\n",
    "initialTime = time.time()\n",
    "resultantArray = array1 * array2\n",
    "\n",
    "print(\"Time taken by NumPy Arrays :\",\n",
    "      (time.time() - initialTime),\n",
    "      \"seconds\")"
   ]
  },
  {
   "cell_type": "markdown",
   "metadata": {},
   "source": [
    "## Membuat Array 1D"
   ]
  },
  {
   "cell_type": "code",
   "execution_count": 5,
   "metadata": {},
   "outputs": [
    {
     "data": {
      "text/plain": [
       "array([1, 2, 3, 4, 5, 6])"
      ]
     },
     "execution_count": 5,
     "metadata": {},
     "output_type": "execute_result"
    }
   ],
   "source": [
    "a = np.array([1, 2, 3, 4, 5, 6])\n",
    "a"
   ]
  },
  {
   "cell_type": "markdown",
   "metadata": {},
   "source": [
    "## Membuat Array 2D"
   ]
  },
  {
   "cell_type": "code",
   "execution_count": 6,
   "metadata": {},
   "outputs": [
    {
     "data": {
      "text/plain": [
       "array([[ 1,  2,  3,  4],\n",
       "       [ 5,  6,  7,  8],\n",
       "       [ 9, 10, 11, 12]])"
      ]
     },
     "execution_count": 6,
     "metadata": {},
     "output_type": "execute_result"
    }
   ],
   "source": [
    "b = np.array([[1, 2, 3, 4], [5, 6, 7, 8], [9, 10, 11, 12]])\n",
    "b"
   ]
  },
  {
   "cell_type": "markdown",
   "metadata": {},
   "source": [
    "## Membuat Array dengan Range Tertentu"
   ]
  },
  {
   "cell_type": "code",
   "execution_count": 7,
   "metadata": {},
   "outputs": [
    {
     "name": "stdout",
     "output_type": "stream",
     "text": [
      "[0 1 2]\n",
      "[0. 1. 2.]\n",
      "[3 4 5 6]\n",
      "[3 5]\n"
     ]
    }
   ],
   "source": [
    "a = np.arange(3)\n",
    "print(a)\n",
    "a = np.arange(3.0)\n",
    "print(a)\n",
    "a = np.arange(3,7)\n",
    "print(a)\n",
    "a = np.arange(3,7,2)\n",
    "print(a)"
   ]
  },
  {
   "cell_type": "markdown",
   "metadata": {},
   "source": [
    "## Membuat Array dengan Shape Tertentu"
   ]
  },
  {
   "cell_type": "code",
   "execution_count": 8,
   "metadata": {},
   "outputs": [
    {
     "name": "stdout",
     "output_type": "stream",
     "text": [
      "[[ 0  1  2  3  4]\n",
      " [ 5  6  7  8  9]\n",
      " [10 11 12 13 14]]\n",
      "(3, 5)\n",
      "2\n",
      "<class 'numpy.ndarray'>\n"
     ]
    }
   ],
   "source": [
    "a = np.arange(15).reshape(3, 5)\n",
    "print(a)\n",
    "print(a.shape)\n",
    "print(a.ndim)\n",
    "print(type(a))"
   ]
  },
  {
   "cell_type": "markdown",
   "metadata": {},
   "source": [
    "## Membuat Array dengan Datatype Tertentu"
   ]
  },
  {
   "cell_type": "code",
   "execution_count": 9,
   "metadata": {},
   "outputs": [
    {
     "name": "stdout",
     "output_type": "stream",
     "text": [
      "[[ 0.  1.  2.  3.  4.]\n",
      " [ 5.  6.  7.  8.  9.]\n",
      " [10. 11. 12. 13. 14.]]\n"
     ]
    }
   ],
   "source": [
    "a = np.arange(15, dtype=float).reshape(3, 5)\n",
    "print(a)"
   ]
  },
  {
   "cell_type": "markdown",
   "metadata": {},
   "source": [
    "## Membuat Array Berisi 0.0 atau 1.0"
   ]
  },
  {
   "cell_type": "code",
   "execution_count": 10,
   "metadata": {},
   "outputs": [
    {
     "name": "stdout",
     "output_type": "stream",
     "text": [
      "[[0. 0. 0. 0.]\n",
      " [0. 0. 0. 0.]\n",
      " [0. 0. 0. 0.]]\n",
      "[1. 1. 1. 1. 1.]\n"
     ]
    }
   ],
   "source": [
    "a = np.zeros((3,4))\n",
    "print(a)\n",
    "a = np.ones((5))\n",
    "print(a)"
   ]
  },
  {
   "cell_type": "markdown",
   "metadata": {},
   "source": [
    "## Membuat Array dengan Interval Linear"
   ]
  },
  {
   "cell_type": "code",
   "execution_count": 11,
   "metadata": {},
   "outputs": [
    {
     "name": "stdout",
     "output_type": "stream",
     "text": [
      "[0.         0.33333333 0.66666667 1.         1.33333333 1.66666667\n",
      " 2.        ]\n"
     ]
    }
   ],
   "source": [
    "a = np.linspace(0, 2, 7)\n",
    "print(a)"
   ]
  },
  {
   "cell_type": "markdown",
   "metadata": {},
   "source": [
    "## Membuat Array dengan Interval Logaritmik"
   ]
  },
  {
   "cell_type": "code",
   "execution_count": 12,
   "metadata": {
    "scrolled": true
   },
   "outputs": [
    {
     "name": "stdout",
     "output_type": "stream",
     "text": [
      "[ 10.          17.7827941   31.6227766   56.23413252 100.        ]\n"
     ]
    }
   ],
   "source": [
    "a = np.logspace(1, 2, num=5)\n",
    "print(a)"
   ]
  },
  {
   "cell_type": "markdown",
   "metadata": {},
   "source": [
    "## Membuat Array dengan Element Random"
   ]
  },
  {
   "cell_type": "code",
   "execution_count": 13,
   "metadata": {},
   "outputs": [
    {
     "name": "stdout",
     "output_type": "stream",
     "text": [
      "[[[9 4 6 1]\n",
      "  [8 3 5 2]\n",
      "  [8 5 2 8]]\n",
      "\n",
      " [[3 1 5 2]\n",
      "  [6 7 2 4]\n",
      "  [6 7 6 5]]]\n"
     ]
    }
   ],
   "source": [
    "a = np.random.randint(1,10,24).reshape(2,3,4)\n",
    "print(a)"
   ]
  },
  {
   "cell_type": "markdown",
   "metadata": {},
   "source": [
    "## ==================================== "
   ]
  },
  {
   "cell_type": "markdown",
   "metadata": {},
   "source": [
    "## Konversi Python List ke Numpy Array"
   ]
  },
  {
   "cell_type": "code",
   "execution_count": 14,
   "metadata": {},
   "outputs": [
    {
     "name": "stdout",
     "output_type": "stream",
     "text": [
      "[[1, 2, 3], [4, 5, 6]]\n",
      "<class 'list'>\n",
      "\n",
      "[[1 2 3]\n",
      " [4 5 6]]\n",
      "<class 'numpy.ndarray'>\n",
      "\n",
      "[[1. 2. 3.]\n",
      " [4. 5. 6.]]\n",
      "<class 'numpy.ndarray'>\n"
     ]
    }
   ],
   "source": [
    "a=[[1,2,3],[4,5,6]]\n",
    "b=np.asarray(a)\n",
    "c=np.asarray(a,dtype=float)\n",
    "print(a)\n",
    "print(type(a))\n",
    "print()\n",
    "print(b)\n",
    "print(type(b))\n",
    "print()\n",
    "print(c)\n",
    "print(type(c))"
   ]
  },
  {
   "cell_type": "markdown",
   "metadata": {},
   "source": [
    "## Slicing"
   ]
  },
  {
   "cell_type": "code",
   "execution_count": 15,
   "metadata": {},
   "outputs": [
    {
     "name": "stdout",
     "output_type": "stream",
     "text": [
      "[0 1 2 3 4 5 6 7 8 9]\n",
      "\n",
      "2\n",
      "\n",
      "8\n",
      "\n",
      "[2 3 4]\n",
      "\n",
      "[1 3 5]\n",
      "\n",
      "[[0 1 2 3 4]\n",
      " [5 6 7 8 9]]\n",
      "\n",
      "[0 1 2 3 4]\n"
     ]
    }
   ],
   "source": [
    "x = np.arange(10)\n",
    "print(x)\n",
    "print()\n",
    "print(x[2])\n",
    "print()\n",
    "print(x[-2])\n",
    "print()\n",
    "print(x[2:5])\n",
    "print()\n",
    "print(x[1:7:2])\n",
    "print()\n",
    "x.shape = (2,5)\n",
    "print(x)\n",
    "print()\n",
    "print(x[0])"
   ]
  },
  {
   "cell_type": "code",
   "execution_count": 16,
   "metadata": {},
   "outputs": [
    {
     "name": "stdout",
     "output_type": "stream",
     "text": [
      "[[ 0  1  2  3  4  5  6]\n",
      " [ 7  8  9 10 11 12 13]\n",
      " [14 15 16 17 18 19 20]\n",
      " [21 22 23 24 25 26 27]\n",
      " [28 29 30 31 32 33 34]]\n",
      "\n",
      "[[ 7  8  9 10 11 12 13]\n",
      " [21 22 23 24 25 26 27]]\n",
      "\n",
      "[[ 7 10 13]\n",
      " [21 24 27]]\n"
     ]
    }
   ],
   "source": [
    "y = np.arange(35).reshape(5,7)\n",
    "print(y)\n",
    "print()\n",
    "print(y[1:5:2])\n",
    "print()\n",
    "print(y[1:5:2,::3])"
   ]
  },
  {
   "cell_type": "markdown",
   "metadata": {},
   "source": [
    "## Indexing"
   ]
  },
  {
   "cell_type": "code",
   "execution_count": 17,
   "metadata": {},
   "outputs": [
    {
     "name": "stdout",
     "output_type": "stream",
     "text": [
      "[10  9  8  7  6  5  4  3  2]\n",
      "\n",
      "[ 3  3 -3  8]\n",
      "\n",
      "[7 7 4 2]\n",
      "\n",
      "[[1 1]\n",
      " [2 3]]\n",
      "\n",
      "[[9 9]\n",
      " [8 7]]\n"
     ]
    }
   ],
   "source": [
    "x = np.arange(10,1,-1)\n",
    "print(x)\n",
    "print()\n",
    "print(np.array([3,3,-3,8]))\n",
    "print()\n",
    "print(x[np.array([3,3,-3,8])])\n",
    "print()\n",
    "print(np.array([[1,1],[2,3]]))\n",
    "print()\n",
    "print(x[np.array([[1,1],[2,3]])])"
   ]
  },
  {
   "cell_type": "code",
   "execution_count": 18,
   "metadata": {},
   "outputs": [
    {
     "name": "stdout",
     "output_type": "stream",
     "text": [
      "[[1 2]\n",
      " [3 4]\n",
      " [5 6]]\n",
      "\n",
      "[1 4 5]\n"
     ]
    }
   ],
   "source": [
    "x = np.array([[1, 2], [3, 4], [5, 6]])\n",
    "y = x[[0,1,2], [0,1,0]]\n",
    "print(x)\n",
    "print()\n",
    "print(y)"
   ]
  },
  {
   "cell_type": "code",
   "execution_count": 19,
   "metadata": {},
   "outputs": [
    {
     "name": "stdout",
     "output_type": "stream",
     "text": [
      "[[ 0  1  2  3  4  5  6]\n",
      " [ 7  8  9 10 11 12 13]\n",
      " [14 15 16 17 18 19 20]\n",
      " [21 22 23 24 25 26 27]\n",
      " [28 29 30 31 32 33 34]]\n",
      "\n",
      "[[1 2]\n",
      " [8 9]]\n",
      "\n",
      "[ 0 15 30]\n"
     ]
    }
   ],
   "source": [
    "y = np.arange(35).reshape(5,7)\n",
    "print(y)\n",
    "print()\n",
    "print(y[0:2,1:3])\n",
    "print()\n",
    "print(y[[0,2,4], [0,1,2]])"
   ]
  },
  {
   "cell_type": "markdown",
   "metadata": {},
   "source": [
    "## Mengambil Nilai di Pojok Matriks dengan Indexing"
   ]
  },
  {
   "cell_type": "code",
   "execution_count": 20,
   "metadata": {
    "scrolled": true
   },
   "outputs": [
    {
     "name": "stdout",
     "output_type": "stream",
     "text": [
      "[[ 0  1  2]\n",
      " [ 3  4  5]\n",
      " [ 6  7  8]\n",
      " [ 9 10 11]]\n",
      "\n",
      "[[0 0]\n",
      " [3 3]]\n",
      "\n",
      "[[0 2]\n",
      " [0 2]]\n",
      "\n",
      "[[ 0  2]\n",
      " [ 9 11]]\n"
     ]
    }
   ],
   "source": [
    "x = np.array([[ 0, 1, 2],[ 3, 4, 5],\n",
    " [ 6, 7, 8],[ 9, 10, 11]])\n",
    "rows = np.array([[0,0],[3,3]])\n",
    "cols = np.array([[0,2],[0,2]])\n",
    "y = x[rows,cols]\n",
    "print(x)\n",
    "print()\n",
    "print(rows)\n",
    "print()\n",
    "print(cols)\n",
    "print()\n",
    "print(y)"
   ]
  },
  {
   "cell_type": "markdown",
   "metadata": {},
   "source": [
    "## ==================================== "
   ]
  },
  {
   "cell_type": "markdown",
   "metadata": {},
   "source": [
    "## Boolean Indexing"
   ]
  },
  {
   "cell_type": "code",
   "execution_count": 21,
   "metadata": {},
   "outputs": [
    {
     "name": "stdout",
     "output_type": "stream",
     "text": [
      "[[ 0  1  2]\n",
      " [ 3  4  5]\n",
      " [ 6  7  8]\n",
      " [ 9 10 11]]\n",
      "[[False False False]\n",
      " [False False False]\n",
      " [ True  True  True]\n",
      " [ True  True  True]]\n",
      "[ 6  7  8  9 10 11]\n"
     ]
    }
   ],
   "source": [
    "x = np.arange(12).reshape(4,3)\n",
    "print(x)\n",
    "print(x>5)\n",
    "print(x[x>5])"
   ]
  },
  {
   "cell_type": "markdown",
   "metadata": {},
   "source": [
    "## Filter Data dengan Boolean Indexing"
   ]
  },
  {
   "cell_type": "code",
   "execution_count": 22,
   "metadata": {},
   "outputs": [
    {
     "name": "stdout",
     "output_type": "stream",
     "text": [
      "[nan  1.  2. nan  3.  4.  5.]\n",
      "[False  True  True False  True  True  True]\n",
      "[1. 2. 3. 4. 5.]\n"
     ]
    }
   ],
   "source": [
    "a = np.array([np.nan, 1,2,np.nan,3,4,5])\n",
    "print(a)\n",
    "b = a[~np.isnan(a)]\n",
    "print(~np.isnan(a))\n",
    "print(b)"
   ]
  },
  {
   "cell_type": "markdown",
   "metadata": {},
   "source": [
    "## Deep Copy"
   ]
  },
  {
   "cell_type": "code",
   "execution_count": 23,
   "metadata": {},
   "outputs": [
    {
     "name": "stdout",
     "output_type": "stream",
     "text": [
      "[[[6 5 7 5]\n",
      "  [2 8 4 6]\n",
      "  [1 6 3 6]]\n",
      "\n",
      " [[4 4 6 8]\n",
      "  [4 7 6 5]\n",
      "  [1 4 8 9]]]\n",
      "[0 5 7 5 2 8 4 6 1 6 3 6 4 4 6 8 4 7 6 5 1 4 8 9]\n"
     ]
    }
   ],
   "source": [
    "a = np.random.randint(1,10,24).reshape(2,3,4)\n",
    "b = a.flatten() #deep copy\n",
    "b[0] = 0\n",
    "print(a)\n",
    "print(b)"
   ]
  },
  {
   "cell_type": "markdown",
   "metadata": {},
   "source": [
    "## Shallow Copy"
   ]
  },
  {
   "cell_type": "code",
   "execution_count": 24,
   "metadata": {},
   "outputs": [
    {
     "name": "stdout",
     "output_type": "stream",
     "text": [
      "[[[0 8 7 5]\n",
      "  [7 8 6 5]\n",
      "  [4 5 9 7]]\n",
      "\n",
      " [[3 2 2 3]\n",
      "  [2 7 6 5]\n",
      "  [7 8 2 9]]]\n",
      "[0 8 7 5 7 8 6 5 4 5 9 7 3 2 2 3 2 7 6 5 7 8 2 9]\n"
     ]
    }
   ],
   "source": [
    "a = np.random.randint(1,10,24).reshape(2,3,4)\n",
    "b = a.ravel() #shallow copy\n",
    "b[0] = 0\n",
    "print(a)\n",
    "print(b)"
   ]
  },
  {
   "cell_type": "markdown",
   "metadata": {},
   "source": [
    "## Transpose Matrix"
   ]
  },
  {
   "cell_type": "code",
   "execution_count": 25,
   "metadata": {},
   "outputs": [
    {
     "name": "stdout",
     "output_type": "stream",
     "text": [
      "[[[9 6 3 2]\n",
      "  [1 4 5 8]\n",
      "  [6 8 6 1]]\n",
      "\n",
      " [[8 7 7 5]\n",
      "  [3 7 5 8]\n",
      "  [7 8 5 1]]]\n",
      "[[[9 8]\n",
      "  [1 3]\n",
      "  [6 7]]\n",
      "\n",
      " [[6 7]\n",
      "  [4 7]\n",
      "  [8 8]]\n",
      "\n",
      " [[3 7]\n",
      "  [5 5]\n",
      "  [6 5]]\n",
      "\n",
      " [[2 5]\n",
      "  [8 8]\n",
      "  [1 1]]]\n",
      "[[[9 8]\n",
      "  [1 3]\n",
      "  [6 7]]\n",
      "\n",
      " [[6 7]\n",
      "  [4 7]\n",
      "  [8 8]]\n",
      "\n",
      " [[3 7]\n",
      "  [5 5]\n",
      "  [6 5]]\n",
      "\n",
      " [[2 5]\n",
      "  [8 8]\n",
      "  [1 1]]]\n"
     ]
    }
   ],
   "source": [
    "a = np.random.randint(1,10,24).reshape(2,3,4)\n",
    "print(a)\n",
    "print(a.T)\n",
    "print(a.transpose())"
   ]
  },
  {
   "cell_type": "markdown",
   "metadata": {},
   "source": [
    "## Link Documentation Numpy"
   ]
  },
  {
   "cell_type": "markdown",
   "metadata": {},
   "source": [
    "https://numpy.org/doc/"
   ]
  }
 ],
 "metadata": {
  "kernelspec": {
   "display_name": "Python 3",
   "language": "python",
   "name": "python3"
  },
  "language_info": {
   "codemirror_mode": {
    "name": "ipython",
    "version": 3
   },
   "file_extension": ".py",
   "mimetype": "text/x-python",
   "name": "python",
   "nbconvert_exporter": "python",
   "pygments_lexer": "ipython3",
   "version": "3.8.3"
  }
 },
 "nbformat": 4,
 "nbformat_minor": 5
}
